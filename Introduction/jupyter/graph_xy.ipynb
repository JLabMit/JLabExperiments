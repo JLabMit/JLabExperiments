{
 "cells": [
  {
   "cell_type": "code",
   "execution_count": 1,
   "id": "5e9db02d-f7a5-4631-837c-6021c67b28ba",
   "metadata": {},
   "outputs": [],
   "source": [
    "import numpy as np\n",
    "import matplotlib.pyplot as plt\n",
    "import matplotlib as mlp\n",
    "# initial settings\n",
    "mlp.rcParams['axes.linewidth'] = 2"
   ]
  },
  {
   "cell_type": "code",
   "execution_count": 2,
   "id": "7d8568f9-9f8f-4df1-a55e-11c29f225665",
   "metadata": {},
   "outputs": [],
   "source": [
    "def readDataFromFile(file_name):       \n",
    "    # arrays for y values\n",
    "    xs = []\n",
    "    ys = []\n",
    "    # read all data in one shot\n",
    "    print(\" Open file: %s\"%(file_name))\n",
    "    with open(file_name,\"r\") as file:\n",
    "        data = file.read()\n",
    "    # go through each row\n",
    "    for line in data.split(\"\\n\"):\n",
    "        f = line.split(',')                               # use a comma to separate columns\n",
    "        if len(f)>1 and len(line)>0 and line[0] != '#':   # protect against not well formatted lines\n",
    "             xs.append(float(f[0]))\n",
    "             ys.append(float(f[1]))\n",
    "    return (xs,ys)"
   ]
  },
  {
   "cell_type": "code",
   "execution_count": 3,
   "id": "1d4abc14-ae39-485a-a55d-30aa32f47147",
   "metadata": {},
   "outputs": [],
   "source": [
    "name = \"graph_xy\"\n",
    "xtitle = \"My x title\"\n",
    "ytitle = \"My y title\""
   ]
  },
  {
   "cell_type": "code",
   "execution_count": 4,
   "id": "1e2e8412-44f6-42a2-8fa5-b8d0d3dd56d1",
   "metadata": {},
   "outputs": [
    {
     "name": "stdout",
     "output_type": "stream",
     "text": [
      " Open file: ../dat/graph_xy.dat\n",
      "[0.0, 1.0, 2.0, 3.0] [0.3, 1.2, 2.8, -3.6]\n"
     ]
    }
   ],
   "source": [
    "# get my data\n",
    "(xs,ys) = readDataFromFile(\"../dat/\"+name+\".dat\")\n",
    "print(xs,ys)"
   ]
  },
  {
   "cell_type": "code",
   "execution_count": 5,
   "id": "a2466d7e-58b3-43c0-92ed-8ede54cf3bbd",
   "metadata": {},
   "outputs": [
    {
     "data": {
      "image/png": "[encoded data removed]",
      "text/plain": [
       "<Figure size 432x288 with 1 Axes>"
      ]
     },
     "metadata": {
      "needs_background": "light"
     },
     "output_type": "display_data"
    }
   ],
   "source": [
    "# define the figure\n",
    "plt.figure(name)\n",
    "plt.plot(xs,ys,marker=\"o\",ls='dashed')\n",
    "\n",
    "# make plot nicer\n",
    "plt.xlabel(xtitle, fontsize=18)\n",
    "plt.ylabel(ytitle, fontsize=18)\n",
    "\n",
    "# make axis tick numbers larger\n",
    "plt.xticks(fontsize=14)\n",
    "plt.yticks(fontsize=14)\n",
    "\n",
    "# make sure to noe have too much white space around the plot\n",
    "plt.subplots_adjust(top=0.99, right=0.99, bottom=0.13, left=0.12)\n",
    "\n",
    "# save plot for later viewing\n",
    "plt.savefig(\"../png/\"+name+\".png\",bbox_inches='tight',dpi=400)\n",
    "\n",
    "# show the plot for interactive use\n",
    "plt.show()"
   ]
  }
 ],
 "metadata": {
  "kernelspec": {
   "display_name": "Python 3",
   "language": "python",
   "name": "python3"
  },
  "language_info": {
   "codemirror_mode": {
    "name": "ipython",
    "version": 3
   },
   "file_extension": ".py",
   "mimetype": "text/x-python",
   "name": "python",
   "nbconvert_exporter": "python",
   "pygments_lexer": "ipython3",
   "version": "3.6.8"
  }
 },
 "nbformat": 4,
 "nbformat_minor": 5
}
