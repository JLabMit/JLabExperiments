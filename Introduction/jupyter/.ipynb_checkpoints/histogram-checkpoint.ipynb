{
 "cells": [
  {
   "cell_type": "code",
   "execution_count": 4,
   "id": "35934108-09e5-4d72-b1fd-254355e51586",
   "metadata": {},
   "outputs": [],
   "source": [
    "import numpy as np\n",
    "import matplotlib.pyplot as plt\n",
    "import matplotlib as mlp\n",
    "\n",
    "from optparse import OptionParser\n",
    "\n",
    "# initial settings\n",
    "mlp.rcParams['axes.linewidth'] = 2"
   ]
  },
  {
   "cell_type": "code",
   "execution_count": 5,
   "id": "aa250e6a-f2b8-41d6-975d-5741c4141c8a",
   "metadata": {},
   "outputs": [],
   "source": [
    "def readDataFromFile(file_name): \n",
    "        \n",
    "    # arrays for y values\n",
    "    xs = []\n",
    "\n",
    "    # read all data in one shot\n",
    "    with open(file_name,\"r\") as file:\n",
    "        data = file.read()\n",
    "\n",
    "    # go through each row\n",
    "    for line in data.split(\"\\n\"):\n",
    "        f = line.split(',')                                # use a comma to separate columns\n",
    "        if len(f)>0 and len(line)>0 and line[0] != '#':    # protect against not well formatted lines\n",
    "             xs.append(float(f[0]))\n",
    "\n",
    "    return xs"
   ]
  },
  {
   "cell_type": "code",
   "execution_count": 6,
   "id": "0dbc9ae1-f9ad-4011-9c24-2dd984c1b777",
   "metadata": {},
   "outputs": [],
   "source": [
    "# parameters\n",
    "name = 'histogram'\n",
    "xtitle = 'Default x title'\n",
    "ytitle = 'Default y title'"
   ]
  },
  {
   "cell_type": "code",
   "execution_count": 7,
   "id": "d1261c5b-9a10-4b40-8926-0640fe2f465a",
   "metadata": {},
   "outputs": [
    {
     "name": "stdout",
     "output_type": "stream",
     "text": [
      "[0.3, 1.2, 2.8, -3.6, 1.5, 0.97, 1.61, 2.0, 1.49, 1.38, 1.42, 1.39, 2.04]\n"
     ]
    }
   ],
   "source": [
    "# get my data\n",
    "xs = readDataFromFile(name+\".dat\")\n",
    "print(xs)"
   ]
  },
  {
   "cell_type": "code",
   "execution_count": 9,
   "id": "fa4ab98f-3145-40cd-83f3-89ae38c48b9b",
   "metadata": {},
   "outputs": [
    {
     "data": {
      "image/png": "[encoded data removed]",
      "text/plain": [
       "<Figure size 432x288 with 1 Axes>"
      ]
     },
     "metadata": {
      "needs_background": "light"
     },
     "output_type": "display_data"
    }
   ],
   "source": [
    "# define the figure\n",
    "plt.figure(name)\n",
    "n, bins, patches = plt.hist(xs, 20, histtype='step', linewidth=2.0)\n",
    "\n",
    "# make plot nicer\n",
    "plt.xlabel(xtitle, fontsize=18)\n",
    "plt.ylabel(ytitle, fontsize=18)\n",
    "\n",
    "# make axis tick numbers larger\n",
    "plt.xticks(fontsize=14)\n",
    "plt.yticks(fontsize=14)\n",
    "\n",
    "# make sure to noe have too much white space around the plot\n",
    "plt.subplots_adjust(top=0.99, right=0.99, bottom=0.13, left=0.12)\n",
    "\n",
    "# save plot for later viewing\n",
    "plt.savefig(name+\".png\",bbox_inches='tight',dpi=400)\n",
    "\n",
    "# show the plot for interactive use\n",
    "plt.show()"
   ]
  },
  {
   "cell_type": "code",
   "execution_count": null,
   "id": "8857b88c-3e74-47fa-8dec-9a7d43d1b917",
   "metadata": {},
   "outputs": [],
   "source": []
  }
 ],
 "metadata": {
  "kernelspec": {
   "display_name": "SUEP",
   "language": "python",
   "name": "suep"
  },
  "language_info": {
   "codemirror_mode": {
    "name": "ipython",
    "version": 3
   },
   "file_extension": ".py",
   "mimetype": "text/x-python",
   "name": "python",
   "nbconvert_exporter": "python",
   "pygments_lexer": "ipython3",
   "version": "3.9.7"
  }
 },
 "nbformat": 4,
 "nbformat_minor": 5
}
