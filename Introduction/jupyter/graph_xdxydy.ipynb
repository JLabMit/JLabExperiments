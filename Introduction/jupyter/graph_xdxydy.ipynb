{
 "cells": [
  {
   "cell_type": "code",
   "execution_count": 1,
   "id": "d4da3493-94e9-4770-8b17-baed4f72c557",
   "metadata": {},
   "outputs": [],
   "source": [
    "import numpy as np\n",
    "import matplotlib.pyplot as plt\n",
    "import matplotlib as mlp\n",
    "# initial settings\n",
    "mlp.rcParams['axes.linewidth'] = 2"
   ]
  },
  {
   "cell_type": "code",
   "execution_count": 2,
   "id": "38a8eef6-8964-4540-b1eb-b6f7f53cce8b",
   "metadata": {},
   "outputs": [],
   "source": [
    "def readDataFromFile(file_name): \n",
    "        \n",
    "    # arrays for x and y values\n",
    "    xs = []\n",
    "    dxs = []\n",
    "    ys = []\n",
    "    dys = []\n",
    "\n",
    "    # read all data in one shot\n",
    "    with open(file_name,\"r\") as file:\n",
    "        data = file.read()\n",
    "\n",
    "    # go through each row\n",
    "    for line in data.split(\"\\n\"):\n",
    "        f = line.split(',')                          # use a comma to separate columns\n",
    "        if len(f)>3 and line[0] != '#':              # protect against not well formatted lines\n",
    "            xs.append(float(f[0]))\n",
    "            dxs.append(float(f[1]))\n",
    "            ys.append(float(f[2]))\n",
    "            dys.append(float(f[3]))\n",
    "\n",
    "    return (xs,dxs,ys,dys)"
   ]
  },
  {
   "cell_type": "code",
   "execution_count": 3,
   "id": "7956c0ba-fb73-4bc3-9743-b042114d0b78",
   "metadata": {},
   "outputs": [],
   "source": [
    "name = \"graph_xdxydy\"\n",
    "xtitle = \"My x title\"\n",
    "ytitle = \"My y title\"\n",
    "logx = False\n",
    "logy = False"
   ]
  },
  {
   "cell_type": "code",
   "execution_count": 4,
   "id": "387562a0-7767-4fe0-ac73-d42c86358658",
   "metadata": {},
   "outputs": [
    {
     "name": "stdout",
     "output_type": "stream",
     "text": [
      "[0.0, 1.0, 2.0, 3.0] [0.0, 0.0, 0.2, 0.03] [0.3, 1.2, 2.8, -3.6] [0.5, 0.3, 0.2, 0.5]\n"
     ]
    }
   ],
   "source": [
    "# get my data\n",
    "(xs,dxs,ys,dys) = readDataFromFile(\"../dat/\"+name+\".dat\")\n",
    "print(xs,dxs,ys,dys)"
   ]
  },
  {
   "cell_type": "code",
   "execution_count": 5,
   "id": "5ff924af-80f5-4ea7-9e7e-6bb9d153f472",
   "metadata": {},
   "outputs": [
    {
     "data": {
      "image/png": "[encoded data removed]",
      "text/plain": [
       "<Figure size 432x288 with 1 Axes>"
      ]
     },
     "metadata": {
      "needs_background": "light"
     },
     "output_type": "display_data"
    }
   ],
   "source": [
    "# define the figure\n",
    "plt.figure(name)\n",
    "plt.scatter(xs,ys,label=name)                     # markers\n",
    "plt.errorbar(xs,ys,xerr=dxs,yerr=dys,ls='none')   # error bars\n",
    "\n",
    "#zeros = np.zeros(len(xs))\n",
    "#plt.plot(xs,zeros,'k')\n",
    "\n",
    "# make axis titles\n",
    "plt.xlabel(xtitle, fontsize=18)\n",
    "plt.ylabel(ytitle, fontsize=18)\n",
    "\n",
    "# make axis tick numbers larger\n",
    "plt.xticks(fontsize=14)\n",
    "plt.yticks(fontsize=14)\n",
    "\n",
    "# legend\n",
    "leg = plt.legend(loc=\"lower left\",frameon=False)\n",
    "\n",
    "# make sure to not have too much white space around the plot\n",
    "plt.subplots_adjust(top=0.99, right=0.99, bottom=0.13, left=0.12)\n",
    "\n",
    "# save plot for later viewing\n",
    "plt.savefig(\"../png/\"+name+\".png\",bbox_inches='tight',dpi=400)\n",
    "\n",
    "# show the plot for interactive use\n",
    "if logx:\n",
    "    plt.xscale(\"log\")\n",
    "if logy:\n",
    "    plt.yscale(\"log\")"
   ]
  },
  {
   "cell_type": "code",
   "execution_count": 6,
   "id": "857278fa-6534-44cc-9f89-fd68b7aae52b",
   "metadata": {},
   "outputs": [],
   "source": [
    "plt.show()"
   ]
  },
  {
   "cell_type": "code",
   "execution_count": null,
   "id": "e5d675bd-9e8f-4839-94e5-e866bdd0bb94",
   "metadata": {},
   "outputs": [],
   "source": []
  }
 ],
 "metadata": {
  "kernelspec": {
   "display_name": "Python 3",
   "language": "python",
   "name": "python3"
  },
  "language_info": {
   "codemirror_mode": {
    "name": "ipython",
    "version": 3
   },
   "file_extension": ".py",
   "mimetype": "text/x-python",
   "name": "python",
   "nbconvert_exporter": "python",
   "pygments_lexer": "ipython3",
   "version": "3.6.8"
  }
 },
 "nbformat": 4,
 "nbformat_minor": 5
}
