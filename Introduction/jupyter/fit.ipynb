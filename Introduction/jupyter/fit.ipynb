{
 "cells": [
  {
   "cell_type": "code",
   "execution_count": 1,
   "id": "f51ec18c-e52c-4ea9-ac66-e775d20e6f89",
   "metadata": {},
   "outputs": [],
   "source": [
    "import numpy as np\n",
    "import matplotlib.pyplot as plt\n",
    "import matplotlib as mlp\n",
    "from scipy.stats import norm\n",
    "from scipy.optimize import curve_fit\n",
    "from scipy import stats\n",
    "\n",
    "g_norm = 1.0/np.sqrt(2*np.pi)"
   ]
  },
  {
   "cell_type": "code",
   "execution_count": 2,
   "id": "5679e4bf-3750-492b-a905-35864ccfe18b",
   "metadata": {},
   "outputs": [],
   "source": [
    "def uncertainties(ys,patch=False):\n",
    "    # find uncertainties (simply sqrt of entries)\n",
    "    # - for fitting a 0 uncertainty does not work so we set it to 1000 to avoid chi2 contribution\n",
    "    sigmas = np.sqrt(ys)\n",
    "    for i in range(0,len(sigmas)): # if there are zero entries we get division by zero!\n",
    "        if sigmas[i] == 0 and patch:\n",
    "            sigmas[i] = 1000\n",
    "    return sigmas"
   ]
  },
  {
   "cell_type": "code",
   "execution_count": 3,
   "id": "38f7cf07-c509-4810-9d7b-ce21ce14d73c",
   "metadata": {},
   "outputs": [],
   "source": [
    "def straight_mean_var(data):\n",
    "    # mean and variance from the raw data\n",
    "    mean_raw = np.mean(data)\n",
    "    var_raw = np.var(data)\n",
    "    print(\"\\n-- No fit\")\n",
    "    print(\" Nevents:  %d\"%(len(data)))\n",
    "    print(\" Mean:     %f +- %f\"%(np.mean(data),np.sqrt(np.var(data)/len(data))))\n",
    "    print(\" Variance: %f\"%(np.var(data)))\n",
    "    print(\" Width:    %f\"%(np.sqrt(np.var(data))))\n",
    "    \n",
    "    return mean_raw,var_raw"
   ]
  },
  {
   "cell_type": "code",
   "execution_count": 4,
   "id": "9ccd9e29-79eb-49db-b36d-912ac540bb37",
   "metadata": {},
   "outputs": [],
   "source": [
    "def gaussian(x, amplitude, mean, width):\n",
    "    # Gaussian function, including a variable normalization, ready for your histogram fit\n",
    "\n",
    "    return amplitude*g_norm/width * np.exp(-0.5*((x-mean)/width)**2)"
   ]
  },
  {
   "cell_type": "code",
   "execution_count": 5,
   "id": "7d612582-54ae-4cc5-b2e4-34908cff4b5e",
   "metadata": {},
   "outputs": [],
   "source": [
    "def fit_gaussian_without(xs,ys):\n",
    "    # implement a set of histogram fits\n",
    "    \n",
    "    x_array = np.array(xs)\n",
    "    y_array = np.array(ys)\n",
    "\n",
    "    # fit without uncertainties\n",
    "    pname = ['Amplitude', 'Mean', 'Width']\n",
    "    par, pcov = curve_fit(gaussian, x_array, y_array, p0=(500, 10, 2))\n",
    "    print(\"\\n== Fit without including uncertainties\")\n",
    "    for i in range(0,3):\n",
    "        print(\" P(%9s,%d): %f +- %f\"%(pname[i],i,par[i],np.sqrt(pcov[i][i])))\n",
    "\n",
    "    return par, pcov"
   ]
  },
  {
   "cell_type": "code",
   "execution_count": 6,
   "id": "572a422d-4359-4659-a531-9a5d7a7f0193",
   "metadata": {},
   "outputs": [],
   "source": [
    "def fit_gaussian(xs,ys):\n",
    "    # implement a set of histogram fits\n",
    "    \n",
    "    x_array = np.array(xs)\n",
    "    y_array = np.array(ys)\n",
    "\n",
    "    # find uncertainties (simply sqrt of entries)\n",
    "    sigmas = uncertainties(y_array,True) # patch uncertainties of 0\n",
    "    \n",
    "    # fit with uncertainties\n",
    "    print(\"\\n== Fit including uncertainties\")\n",
    "    pname = ['Amplitude', 'Mean', 'Width']\n",
    "    par, pcov = curve_fit(gaussian, x_array, y_array, p0=(500, 10, 2), sigma=sigmas)\n",
    "    for i in range(0,3):\n",
    "        print(\" P(%9s,%d): %f +- %f\"%(pname[i],i,par[i],np.sqrt(pcov[i][i])))\n",
    "\n",
    "    chi2,ndof = chi2_ndof(gaussian, par, x_array, y_array, sigmas)\n",
    "    prob = probability(chi2,ndof)\n",
    "    print(\" Chi2: %f,  Ndof: %d\"%(chi2,ndof))\n",
    "    print(\" Prob: %f\"%(prob))\n",
    "        \n",
    "    return par, pcov, prob"
   ]
  },
  {
   "cell_type": "code",
   "execution_count": 7,
   "id": "e177725a-ddf6-442a-a941-b5161a235b54",
   "metadata": {},
   "outputs": [],
   "source": [
    "def chi2_ndof(gaussian, par, x_array, y_array, sigma):\n",
    "    chi2 = 0.\n",
    "    ndof = len(par) * (-1.)\n",
    "    for x,y,sig in zip(x_array,y_array,sigma):\n",
    "        prediction = gaussian(x,par[0],par[1],par[2])\n",
    "        #print(\" x: %f,  y: %f,  sig: %f, -- prediction: %f\"%(x,y,sig,prediction))\n",
    "        if sig>0: # make sure we do not divide by zero\n",
    "            dChi2 = (y-prediction)*(y-prediction)/sig/sig\n",
    "            chi2 += dChi2\n",
    "            ndof += 1\n",
    "            #print(\"dChi2: %f\"%(dChi2))\n",
    "        else:\n",
    "            print(\"WARNING - sigma=0: x: %f,  y: %f,  sig: %f, -- prediction: %f\"%(x,y,sig,prediction))\n",
    "    return chi2, ndof"
   ]
  },
  {
   "cell_type": "code",
   "execution_count": 8,
   "id": "68ed256f-be08-4b20-9875-32a70b3e7ad0",
   "metadata": {},
   "outputs": [],
   "source": [
    "def probability(chi2,ndof):\n",
    "    return (1.0 - stats.chi2.cdf(chi2,ndof))"
   ]
  },
  {
   "cell_type": "code",
   "execution_count": 9,
   "id": "534b7274-9e70-4df2-ac4e-222b83ef3256",
   "metadata": {},
   "outputs": [
    {
     "name": "stdout",
     "output_type": "stream",
     "text": [
      "\n",
      "-- No fit\n",
      " Nevents:  500\n",
      " Mean:     19.957215 +- 0.111570\n",
      " Variance: 6.223909\n",
      " Width:    2.494776\n"
     ]
    },
    {
     "data": {
      "image/png": "[encoded data removed]",
      "text/plain": [
       "<Figure size 432x432 with 1 Axes>"
      ]
     },
     "metadata": {
      "needs_background": "light"
     },
     "output_type": "display_data"
    }
   ],
   "source": [
    "# parameters\n",
    "name = 'fit'\n",
    "xtitle = 'Default Fit x title'\n",
    "ytitle = 'Default Fit y title'\n",
    "\n",
    "n_events = 500\n",
    "\n",
    "# generate some data for this demonstration.\n",
    "data = norm.rvs(20.0, 2.5, size=n_events)\n",
    "\n",
    "# calculate variables\n",
    "mean_raw,var_raw = straight_mean_var(data)\n",
    "\n",
    "# define the figure\n",
    "fig = plt.figure(name,figsize=(6,6))\n",
    "#ns, bins, patches = plt.hist(data, 25, histtype = 'step', linewidth=2)\n",
    "ns, bins, patches = plt.hist(data, 25, histtype = 'step',color='w',alpha=.01)\n",
    "#ns, bins, patches = plt.hist(data, 25)\n",
    "\n",
    "# careful bin width matters for integral\n",
    "binwidth = bins[1]-bins[0]\n",
    "normalize = n_events * binwidth\n",
    "\n",
    "# plot the prediction on top\n",
    "xmin, xmax = plt.xlim()\n",
    "x = np.linspace(xmin, xmax, 100)\n",
    "p = normalize * norm.pdf(x, mean_raw, np.sqrt(var_raw)) # make sure to normalize correctly\n",
    "label = \"mu= %.2f, std= %.2f\" % (mean_raw, np.sqrt(var_raw))\n",
    "plt.plot(x, p, 'r', linewidth=2, label=label)\n",
    "# legend\n",
    "leg = plt.legend(loc=\"upper left\",frameon=False)\n",
    "\n",
    "# prepare data for the least chi2 binned fit\n",
    "xs = []\n",
    "ys = []\n",
    "for n,bmin in zip(ns,bins[:-1]):\n",
    "    xs.append(bmin+0.5*binwidth)\n",
    "    ys.append(n)"
   ]
  },
  {
   "cell_type": "code",
   "execution_count": 10,
   "id": "c2c3f2bd-8399-4497-904b-f41adb15226c",
   "metadata": {},
   "outputs": [
    {
     "name": "stdout",
     "output_type": "stream",
     "text": [
      "\n",
      "== Fit without including uncertainties\n",
      " P(Amplitude,0): 339.916383 +- 13.038323\n",
      " P(     Mean,1): 19.821693 +- 0.110753\n",
      " P(    Width,2): 2.500904 +- 0.110800\n",
      "\n",
      "== Fit including uncertainties\n",
      " P(Amplitude,0): 324.186292 +- 15.536349\n",
      " P(     Mean,1): 19.862651 +- 0.115994\n",
      " P(    Width,2): 2.384380 +- 0.087223\n",
      " Chi2: 24.044091,  Ndof: 22\n",
      " Prob: 0.344922\n"
     ]
    }
   ],
   "source": [
    "# now fit the data\n",
    "fit_gaussian_without(xs,ys)\n",
    "par,pcov,prob = fit_gaussian(xs,ys)"
   ]
  },
  {
   "cell_type": "code",
   "execution_count": 11,
   "id": "7f39b177-4622-402b-ab06-fd9095899599",
   "metadata": {},
   "outputs": [
    {
     "data": {
      "image/png": "[encoded data removed]",
      "text/plain": [
       "<Figure size 432x288 with 1 Axes>"
      ]
     },
     "metadata": {
      "needs_background": "light"
     },
     "output_type": "display_data"
    }
   ],
   "source": [
    "ax = plt.gca()\n",
    "\n",
    "# make a marker plot\n",
    "sigmas = uncertainties(ys)\n",
    "plt.scatter(xs, ys, label=label,color='black')      # markers\n",
    "plt.errorbar(xs,ys,yerr=sigmas,color='black',ls='none')   # error bars\n",
    "plt.plot(x, p, 'r', linewidth=2, label=label)\n",
    "plt.text(0.02,0.90,r'P($\\chi^2$,Ndof): %4.1f%%'%(prob*100),{'color': 'b'}, transform=ax.transAxes)\n",
    "\n",
    "# make plot nicer\n",
    "plt.xlabel(xtitle, fontsize=18)\n",
    "plt.ylabel(ytitle, fontsize=18)\n",
    "\n",
    "# make axis tick numbers larger\n",
    "plt.xticks(fontsize=14)\n",
    "plt.yticks(fontsize=14)\n",
    "\n",
    "# make sure to noe have too much white space around the plot\n",
    "plt.subplots_adjust(top=0.99, right=0.99, bottom=0.13, left=0.12)\n",
    "\n",
    "# save plot for later viewing\n",
    "plt.savefig(\"../png/\"+name+\".png\",bbox_inches='tight',dpi=400)\n",
    "\n",
    "# show the plot for interactive use\n",
    "plt.show()"
   ]
  },
  {
   "cell_type": "code",
   "execution_count": null,
   "id": "9ce84ce6-72c7-4c9a-a7a5-13c6207b53cc",
   "metadata": {},
   "outputs": [],
   "source": []
  }
 ],
 "metadata": {
  "kernelspec": {
   "display_name": "Python 3",
   "language": "python",
   "name": "python3"
  },
  "language_info": {
   "codemirror_mode": {
    "name": "ipython",
    "version": 3
   },
   "file_extension": ".py",
   "mimetype": "text/x-python",
   "name": "python",
   "nbconvert_exporter": "python",
   "pygments_lexer": "ipython3",
   "version": "3.6.8"
  }
 },
 "nbformat": 4,
 "nbformat_minor": 5
}
